{
 "cells": [
  {
   "cell_type": "markdown",
   "id": "767b25f1",
   "metadata": {},
   "source": [
    "# Análise de Voos (voos.antigo.csv)\n",
    "Este notebook investiga a relação entre **preço** e **distância** das rotas presentes no arquivo `voos.antigo.csv`. O objetivo é avaliar a eficiência econômica dos voos e identificar oportunidades ou anomalias, auxiliando consumidores e gestores a entenderem melhor o mercado aéreo."
   ]
  },
  {
   "cell_type": "code",
   "execution_count": null,
   "id": "2802bb68",
   "metadata": {},
   "outputs": [],
   "source": [
    "import pandas as pd\n",
    "import numpy as np\n",
    "import matplotlib.pyplot as plt\n",
    "import seaborn as sns\n",
    "\n",
    "plt.rcParams['figure.figsize'] = (10,6)\n",
    "sns.set(style='whitegrid')"
   ]
  },
  {
   "cell_type": "markdown",
   "id": "707336e6",
   "metadata": {},
   "source": [
    "## Carregamento dos dados"
   ]
  },
  {
   "cell_type": "code",
   "execution_count": null,
   "id": "05a222df",
   "metadata": {},
   "outputs": [],
   "source": [
    "df = pd.read_csv('voos.antigo.csv')\n",
    "print(f'Total de registros: {len(df)}')\n",
    "df.head()"
   ]
  },
  {
   "cell_type": "markdown",
   "id": "3ce66ed4",
   "metadata": {},
   "source": [
    "## Limpeza e pré-processamento"
   ]
  },
  {
   "cell_type": "code",
   "execution_count": null,
   "id": "d33bab0d",
   "metadata": {},
   "outputs": [],
   "source": [
    "# Verificar valores ausentes\n",
    "print(df.isnull().sum())\n",
    "\n",
    "# Criar coluna de rota simplificada\n",
    "df['rota'] = df['origem (IATA)'] + '-' + df['destino (IATA)']\n",
    "\n",
    "# Calcular preço por km\n",
    "df['preco_por_km'] = df['price'] / df['distancia']\n",
    "\n",
    "# Visão geral das estatísticas\n",
    "df[['price','distancia','preco_por_km']].describe()"
   ]
  },
  {
   "cell_type": "markdown",
   "id": "a23c728e",
   "metadata": {},
   "source": [
    "## Preço vs Distância"
   ]
  },
  {
   "cell_type": "code",
   "execution_count": null,
   "id": "281b3f9a",
   "metadata": {},
   "outputs": [],
   "source": [
    "sns.regplot(data=df, x='distancia', y='price', scatter_kws={'alpha':0.7});\n",
    "plt.title('Relação entre Distância e Preço');\n",
    "plt.xlabel('Distância (km)');\n",
    "plt.ylabel('Preço (R$)');\n",
    "plt.show()"
   ]
  },
  {
   "cell_type": "markdown",
   "id": "1726a90a",
   "metadata": {},
   "source": [
    "## Preço por km vs Distância"
   ]
  },
  {
   "cell_type": "code",
   "execution_count": null,
   "id": "c9686156",
   "metadata": {},
   "outputs": [],
   "source": [
    "sns.scatterplot(data=df, x='distancia', y='preco_por_km', alpha=0.7);\n",
    "plt.title('Eficiência (Preço por km) ao longo da Distância');\n",
    "plt.xlabel('Distância (km)');\n",
    "plt.ylabel('Preço por km (R$/km)');\n",
    "plt.show()"
   ]
  },
  {
   "cell_type": "markdown",
   "id": "ec3b7ebc",
   "metadata": {},
   "source": [
    "## Distribuição do Preço por km"
   ]
  },
  {
   "cell_type": "code",
   "execution_count": null,
   "id": "ec243d51",
   "metadata": {},
   "outputs": [],
   "source": [
    "sns.histplot(df['preco_por_km'], bins=30, kde=True);\n",
    "plt.title('Histograma do Preço por km');\n",
    "plt.xlabel('Preço por km (R$/km)');\n",
    "plt.ylabel('Frequência');\n",
    "plt.show()"
   ]
  },
  {
   "cell_type": "markdown",
   "id": "58897e6e",
   "metadata": {},
   "source": [
    "## Rotas extremas em custo por km"
   ]
  },
  {
   "cell_type": "code",
   "execution_count": null,
   "id": "06ddd120",
   "metadata": {},
   "outputs": [],
   "source": [
    "top_caras = df.sort_values('preco_por_km', ascending=False).head(10)\n",
    "baratas = df.sort_values('preco_por_km', ascending=True).head(10)\n",
    "\n",
    "print('Mais caras por km:')\n",
    "display(top_caras[['rota','price','distancia','preco_por_km']])\n",
    "\n",
    "print('Mais baratas por km:')\n",
    "display(baratas[['rota','price','distancia','preco_por_km']])"
   ]
  },
  {
   "cell_type": "markdown",
   "id": "a2fc74c4",
   "metadata": {},
   "source": [
    "## Comparação por companhia aérea"
   ]
  },
  {
   "cell_type": "code",
   "execution_count": null,
   "id": "d259ab09",
   "metadata": {},
   "outputs": [],
   "source": [
    "sns.boxplot(data=df, x='cia', y='preco_por_km');\n",
    "plt.title('Distribuição do Preço por km por Companhia');\n",
    "plt.xlabel('Companhia');\n",
    "plt.ylabel('Preço por km (R$/km)');\n",
    "plt.show()"
   ]
  },
  {
   "cell_type": "markdown",
   "id": "91a58bcf",
   "metadata": {},
   "source": [
    "## Conclusões\n",
    "- A relação entre preço e distância apresenta correlação moderada, indicando que voos mais longos tendem a ser mais caros, mas com grande variabilidade.\n",
    "- Observa-se forte penalização em rotas muito curtas (ex.: BSB-GYN), com custo por km muito acima da média, sugerindo influência de custos fixos e taxas.\n",
    "- Nas faixas acima de 2000 km o preço por km tende a estabilizar abaixo de 0,5 R$/km, mostrando maior eficiência em distâncias longas.\n",
    "- Foram identificadas rotas atípicas (tanto baratas quanto caras) que podem representar oportunidades ou sinalizar distorções de mercado.\n",
    "- A análise pode ser complementada futuramente com dados de ocupação das aeronaves para estudar elasticidade de demanda e viabilidade econômica."
   ]
  }
 ],
 "metadata": {
  "kernelspec": {
   "display_name": "Python 3",
   "language": "python",
   "name": "python3"
  }
 },
 "nbformat": 4,
 "nbformat_minor": 5
}